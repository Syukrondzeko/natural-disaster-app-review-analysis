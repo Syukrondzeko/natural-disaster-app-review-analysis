{
 "cells": [
  {
   "cell_type": "markdown",
   "id": "93f81e61",
   "metadata": {},
   "source": [
    "# 1. Read Dataset"
   ]
  },
  {
   "cell_type": "code",
   "execution_count": null,
   "id": "5b29e775",
   "metadata": {},
   "outputs": [],
   "source": [
    "import pandas as pd\n",
    "import os\n",
    "\n",
    "def process_row(row):\n",
    "    \"\"\"\n",
    "    Processes a single row from the CSV file. If the row has more than 4 elements, it keeps the first, second, and last elements,\n",
    "    and merges the middle elements into a single string.\n",
    "\n",
    "    Parameters:\n",
    "    - row (list of str): The row to be processed, represented as a list of string elements.\n",
    "\n",
    "    Returns:\n",
    "    - list of str: A processed row with the first, second, and last elements, and a merged string of any middle elements.\n",
    "      If the original row had 4 or fewer elements, it is returned unchanged.\n",
    "    \"\"\"\n",
    "    if len(row) > 4:\n",
    "        first, second, *middle, last = row\n",
    "        merged_middle = ' '.join(middle)\n",
    "        return [first, second, merged_middle, last]\n",
    "    return row\n",
    "\n",
    "def create_dataframe_from_csv(file_path):\n",
    "    \"\"\"\n",
    "    Reads a CSV file from the given file path and creates a pandas DataFrame. Each row in the CSV is processed to merge\n",
    "    middle elements if the row contains more than 4 elements.\n",
    "\n",
    "    Parameters:\n",
    "    - file_path (str): The path to the CSV file to be read.\n",
    "\n",
    "    Returns:\n",
    "    - pd.DataFrame: A pandas DataFrame created from the processed CSV data. The first row of the CSV is used as column headers.\n",
    "    \"\"\"\n",
    "    data = []\n",
    "    with open(file_path, 'r', encoding='utf-8') as file:\n",
    "        for line in file:\n",
    "            row = [item.strip().strip('\"') for item in line.split(',')]\n",
    "            processed_row = process_row(row)\n",
    "            data.append(processed_row)\n",
    "\n",
    "    headers = data[0]\n",
    "    df_data = data[1:]\n",
    "    df = pd.DataFrame(df_data, columns=headers)\n",
    "    return df\n",
    "\n",
    "def preprocess_dataframe(df):\n",
    "    \"\"\"\n",
    "    Preprocesses the given DataFrame by dropping the 'id' column and removing duplicates based on 'app' and 'content' columns.\n",
    "\n",
    "    Parameters:\n",
    "    - df (pd.DataFrame): The input DataFrame to preprocess.\n",
    "\n",
    "    Returns:\n",
    "    - pd.DataFrame: The preprocessed DataFrame, with the 'id' column dropped and duplicates removed.\n",
    "    \"\"\"\n",
    "    df.drop(columns=['id'], inplace=True)\n",
    "    df.drop_duplicates(subset=['app', 'content'], inplace=True)\n",
    "    return df\n",
    "\n",
    "\n",
    "base_dir = '../dataset/phase 1/'  \n",
    "file_path_1 = os.path.join(base_dir, 'google_app_reviews_1.csv')\n",
    "file_path_2 = os.path.join(base_dir, 'google_app_reviews_2.csv')\n",
    "\n",
    "# Creating DataFrames from CSV files\n",
    "df_1 = create_dataframe_from_csv(file_path_1)\n",
    "df_2 = create_dataframe_from_csv(file_path_2)\n",
    "\n",
    "# Preprocessing DataFrames\n",
    "df_1 = preprocess_dataframe(df_1)\n",
    "df_2 = preprocess_dataframe(df_2)\n",
    "\n",
    "# Concatenating preprocessed DataFrames\n",
    "df = pd.concat([df_1, df_2], ignore_index=True).reset_index(drop=True)\n"
   ]
  },
  {
   "cell_type": "markdown",
   "id": "a538295f",
   "metadata": {},
   "source": [
    "# 2. User Review Translation\n",
    "## 2.1. Google Play Store"
   ]
  },
  {
   "cell_type": "code",
   "execution_count": 74,
   "id": "d260cc6c",
   "metadata": {},
   "outputs": [],
   "source": [
    "import pandas as pd\n",
    "import time\n",
    "import warnings\n",
    "from transformers import MarianMTModel, MarianTokenizer\n",
    "\n",
    "def translate_content_and_save(df, app_names, model_name, output_path, batch_size=10):\n",
    "    \"\"\"\n",
    "    Translates the content of specific rows in a DataFrame where the 'app' column matches any of the given app_names,\n",
    "    using the specified MarianMT model. It then saves the updated DataFrame to a CSV file at the specified output_path.\n",
    "\n",
    "    Parameters:\n",
    "    - df (pd.DataFrame): The input DataFrame containing the data to be translated.\n",
    "    - app_names (list of str): The names of the apps for which the 'content' column will be translated.\n",
    "    - model_name (str): The MarianMT model name to be used for translation.\n",
    "    - output_path (str): The file path where the updated DataFrame should be saved as a CSV.\n",
    "    - batch_size (int, optional): The number of sentences to translate before printing progress. Defaults to 10.\n",
    "\n",
    "    Returns:\n",
    "    - None: This function does not return a value but saves the updated DataFrame to a CSV file.\n",
    "\n",
    "    This function filters the DataFrame for rows corresponding to any of the specified app_names, translates the 'content'\n",
    "    column of those rows, and then merges the translated content back into the original DataFrame. Finally, it saves\n",
    "    the updated DataFrame to a CSV file at the specified output_path. Progress is printed every batch_size translations.\n",
    "    \"\"\"\n",
    "    warnings.filterwarnings('ignore')\n",
    "    translated_dfs = []\n",
    "\n",
    "    for app_name in app_names:\n",
    "        # Filter DataFrame for the specified app\n",
    "        df_app_specific = df[df.app == app_name]\n",
    "        print(df_app_specific.head())\n",
    "\n",
    "        # Initialize translation function\n",
    "        def translate(text, model_name=model_name):\n",
    "            try:\n",
    "                tokenizer = MarianTokenizer.from_pretrained(model_name)\n",
    "                model = MarianMTModel.from_pretrained(model_name)\n",
    "                tokens = tokenizer(text, return_tensors=\"pt\", truncation=True, max_length=512)\n",
    "                translated = model.generate(**tokens)\n",
    "                translated_text = tokenizer.decode(translated[0], skip_special_tokens=True)\n",
    "                return translated_text\n",
    "            except Exception as e:\n",
    "                print(f\"Error in translation: {e}\")\n",
    "                return 'Translation failed'\n",
    "\n",
    "        # Perform translation\n",
    "        start_time = time.time()\n",
    "        translated_text = []\n",
    "        for index, content in enumerate(df_app_specific.content):\n",
    "            translated_text.append(translate(content))\n",
    "            if (index + 1) % batch_size == 0:\n",
    "                duration = time.time() - start_time\n",
    "                print(f\"Successfully translated {index + 1} sentences for app '{app_name}' in {duration:.2f} seconds\")\n",
    "\n",
    "        # Update DataFrame with translated content\n",
    "        df_app_specific = df_app_specific.reset_index(drop=True)\n",
    "        df_app_specific['content'] = pd.Series(translated_text)\n",
    "\n",
    "        translated_dfs.append(df_app_specific)\n",
    "\n",
    "    # Concatenate translated DataFrames with the rest of the original DataFrame\n",
    "    df_non_translated = df[~df.app.isin(app_names)]\n",
    "    df_updated = pd.concat([df_non_translated] + translated_dfs, ignore_index=True).reset_index(drop=True)\n",
    "\n",
    "    # Save to CSV\n",
    "    print(df_updated.head())\n",
    "    #df_updated.to_csv(output_path, index=False)\n",
    "    print(f\"Dataframe has been saved into {output_path}!\")\n",
    "    return df_updated\n"
   ]
  },
  {
   "cell_type": "markdown",
   "id": "dfadd7ac",
   "metadata": {},
   "source": [
    "### 2.1.1. Polish to English\n",
    "\n",
    "App: 112 BE"
   ]
  },
  {
   "cell_type": "code",
   "execution_count": 75,
   "id": "30478641",
   "metadata": {},
   "outputs": [
    {
     "name": "stdout",
     "output_type": "stream",
     "text": [
      "            app                                     content score\n",
      "81566  Alarm112                                     Idealny     5\n",
      "81567  Alarm112                  Kolejne wyłudzanie danych?     1\n",
      "81568  Alarm112             Dla mnie nienormalna aplikacja.     2\n",
      "81569  Alarm112  Przydatna potrzebna funkcjonalna. Polecam.     4\n",
      "81570  Alarm112                                  Wporządku.     5\n",
      "              app                                            content score\n",
      "0  Disaster Alert                                           Good App     5\n",
      "1  Disaster Alert  Working as a Public Health Nurse I get to resp...     5\n",
      "2  Disaster Alert  Nice to have before traveling to unknown terri...     5\n",
      "3  Disaster Alert  I like! I'm trying to find anything about tsun...     5\n",
      "4  Disaster Alert                                       Not accurate     1\n",
      "Dataframe has been saved into ../dataset/raw data/df_translated_google_play.csv!\n"
     ]
    }
   ],
   "source": [
    "# Calling the parameters\n",
    "save_dir = '../dataset/phase 2/' \n",
    "app_name = ['Alarm112']\n",
    "model_name = 'Helsinki-NLP/opus-mt-pl-en'\n",
    "output_path = os.path.join(save_dir, 'df_translated_google_play.csv')\n",
    "\n",
    "# Calling the function\n",
    "df_updated = translate_content_and_save(df, app_name, model_name, output_path)"
   ]
  },
  {
   "cell_type": "markdown",
   "id": "89b00291",
   "metadata": {},
   "source": [
    "### 2.1.2. Dutch to English\n",
    "\n",
    "App: 112 BE"
   ]
  },
  {
   "cell_type": "code",
   "execution_count": 57,
   "id": "d17f1094",
   "metadata": {},
   "outputs": [
    {
     "name": "stdout",
     "output_type": "stream",
     "text": [
      "          app                                            content score\n",
      "82349  112 BE                                            Handig.     5\n",
      "82350  112 BE  Vandaag een oproep via de app geplaatst naar 1...     1\n",
      "82351  112 BE  Voor politiediensten zie ik de meerwaarde eerl...     3\n",
      "82352  112 BE                               Niets zo gemakkelijk     5\n",
      "82353  112 BE  Beste is er ergens een optie om de app op het ...     3\n",
      "          app                                            content score\n",
      "85717  112 BE                                             Handy.     5\n",
      "85718  112 BE  Today I put a call through the app to 101. I c...     1\n",
      "85719  112 BE  For police I honestly do not see the added val...     3\n",
      "85720  112 BE                                   Nothing so easy.     5\n",
      "85721  112 BE  Best there is somewhere an option to get the a...     3\n",
      "\n",
      "Dataframe has been saved into ../dataset/raw data/df_translated_google_play.csv!\n"
     ]
    }
   ],
   "source": [
    "# Calling the parameters\n",
    "app_name = ['112 BE']\n",
    "model_name = 'Helsinki-NLP/opus-mt-nl-en'\n",
    "output_path = os.path.join(save_dir, 'df_translated_google_play.csv')\n",
    "\n",
    "# Calling the function\n",
    "df_updated = translate_content_and_save(df_updated, app_name, model_name, output_path)"
   ]
  },
  {
   "cell_type": "markdown",
   "id": "3a54d236",
   "metadata": {},
   "source": [
    "### 2.1.3. German to English\n",
    "\n",
    "App: DEC112 2.0"
   ]
  },
  {
   "cell_type": "code",
   "execution_count": 58,
   "id": "82e690d2",
   "metadata": {},
   "outputs": [
    {
     "name": "stdout",
     "output_type": "stream",
     "text": [
      "              app                                            content score\n",
      "82336  DEC112 2.0                                          Genial.❤️     5\n",
      "82337  DEC112 2.0  Schon die Registrierung verläuft fehlerhaft.Ei...     4\n",
      "82338  DEC112 2.0  Die App funktioniert nur online. Wenn mal kein...     3\n",
      "82339  DEC112 2.0  Super Umsetzung! Ist die App auch für nicht-ge...     5\n",
      "82340  DEC112 2.0   Endlich eine zweckmässige und intelligente App 👍     5\n",
      "              app                                            content score\n",
      "85709  DEC112 2.0                                           Awesome.     5\n",
      "85710  DEC112 2.0  The registration is already wrong.A confirmati...     4\n",
      "85711  DEC112 2.0  The app only works online. If there is no net ...     3\n",
      "85712  DEC112 2.0  Great implementation! Is the app also intended...     5\n",
      "85713  DEC112 2.0               Finally a useful and intelligent app     5\n",
      "\n",
      "Dataframe has been saved into ../dataset/raw data/df_translated_google_play.csv!\n"
     ]
    }
   ],
   "source": [
    "# Calling the parameters\n",
    "app_name = ['DEC112 2.0']\n",
    "model_name = 'Helsinki-NLP/opus-mt-de-en'\n",
    "output_path = os.path.join(save_dir, 'df_translated_google_play.csv')\n",
    "\n",
    "# Calling the function\n",
    "df_updated = translate_content_and_save(df_updated, app_name, model_name, output_path)"
   ]
  },
  {
   "cell_type": "markdown",
   "id": "3cf6cdcb",
   "metadata": {},
   "source": [
    "### 2.1.4. Georgian to English\n",
    "\n",
    "App: 112 Georgia"
   ]
  },
  {
   "cell_type": "code",
   "execution_count": 59,
   "id": "ef3e3b9b",
   "metadata": {},
   "outputs": [
    {
     "name": "stdout",
     "output_type": "stream",
     "text": [
      "               app                                            content score\n",
      "82568  112 Georgia  I used this app to call the police a couple of...     3\n",
      "82569  112 Georgia  Got stuck after entering personal info and add...     3\n",
      "82570  112 Georgia  After the recent update I had to re-register f...     5\n",
      "82571  112 Georgia                    Good idea but have't tasted yet     3\n",
      "82572  112 Georgia  Its funny a country with an anthem about freed...     1\n",
      "               app                                            content score\n",
      "85679  112 Georgia  Icedtea Flasheschendordinatorstor (traditional...     3\n",
      "85680  112 Georgia  Go to Kontact or to-do of the Free Software Fo...     3\n",
      "85681  112 Georgia               Attached Identity Identity Identity.     5\n",
      "85682  112 Georgia                            Google Browser's Module     3\n",
      "85683  112 Georgia                                    I-Search Backup     1\n",
      "\n",
      "Dataframe has been saved into ../dataset/raw data/df_translated_google_play.csv!\n"
     ]
    }
   ],
   "source": [
    "# Calling the parameters\n",
    "app_name = ['112 Georgia']\n",
    "model_name = 'Helsinki-NLP/opus-mt-ka-en'\n",
    "output_path = os.path.join(save_dir, 'df_translated_google_play.csv')\n",
    "\n",
    "# Calling the function\n",
    "df_updated = translate_content_and_save(df_updated, app_name, model_name, output_path)"
   ]
  },
  {
   "cell_type": "markdown",
   "id": "34cef18d",
   "metadata": {},
   "source": [
    "### 2.1.5. Spanish to English\n",
    "\n",
    "App: SAC Argentina"
   ]
  },
  {
   "cell_type": "code",
   "execution_count": 60,
   "id": "6bf1433b",
   "metadata": {},
   "outputs": [
    {
     "name": "stdout",
     "output_type": "stream",
     "text": [
      "                 app                                            content score\n",
      "82568  SAC Argentina             No deja que se actualice y no funciona     1\n",
      "82569  SAC Argentina  Funciona muy mal no la recomiendo pérdida de p...     1\n",
      "82570  SAC Argentina                                              Buena     5\n",
      "82571  SAC Argentina                                             Genial     5\n",
      "82572  SAC Argentina  Te llaman rápido si la activas y te consultan ...     2\n",
      "                 app                                            content score\n",
      "85637  SAC Argentina      It doesn't let it update and it doesn't work.     1\n",
      "85638  SAC Argentina  It works very badly I do not recommend losing ...     1\n",
      "85639  SAC Argentina                                              Good.     5\n",
      "85640  SAC Argentina                                             Great.     5\n",
      "85641  SAC Argentina  They call you fast if you activate it and they...     2\n",
      "\n",
      "Dataframe has been saved into ../dataset/raw data/df_translated_google_play.csv!\n"
     ]
    }
   ],
   "source": [
    "# Calling the parameters\n",
    "app_name = ['SAC Argentina']\n",
    "model_name = 'Helsinki-NLP/opus-mt-es-en'\n",
    "output_path = os.path.join(save_dir, 'df_translated_google_play.csv')\n",
    "\n",
    "# Calling the function\n",
    "df_updated = translate_content_and_save(df_updated, app_name, model_name, output_path)"
   ]
  },
  {
   "cell_type": "markdown",
   "id": "b5f941c5",
   "metadata": {},
   "source": [
    "### 2.1.6. Bulgarian to English\n",
    "\n",
    "App: help is nearby!"
   ]
  },
  {
   "cell_type": "code",
   "execution_count": 61,
   "id": "6ca0538d",
   "metadata": {},
   "outputs": [
    {
     "name": "stdout",
     "output_type": "stream",
     "text": [
      "                   app                                            content  \\\n",
      "82568  help is nearby!  нали знаете че може да има хора с натрапници в...   \n",
      "82569  help is nearby!  6Текстът който копирате автоматично ще се пока...   \n",
      "82570  help is nearby!                      СУПЕР ОФЕРТА ЗА ВИДЕОЧАТ ПАК.   \n",
      "82571  help is nearby!  ДАДОХ ДОСТАП НА ВСЯКАДА . А ТО ПРОДАЛЖАЕА ДА М...   \n",
      "82572  help is nearby!  Щом има приложение то трябва да е достъпно за ...   \n",
      "\n",
      "      score  \n",
      "82568     1  \n",
      "82569     2  \n",
      "82570     5  \n",
      "82571     1  \n",
      "82572     1  \n",
      "                   app                                            content  \\\n",
      "85618  help is nearby!  you know that there may be people with intrude...   \n",
      "85619  help is nearby!  6The text you copy will automatically display ...   \n",
      "85620  help is nearby!       THE SUPER OF THE VIDEOCHATE PAC SUPER OFFER.   \n",
      "85621  help is nearby!  I've given this to everyone, and I've given it...   \n",
      "85622  help is nearby!  If there is an app, it should be available to ...   \n",
      "\n",
      "      score  \n",
      "85618     1  \n",
      "85619     2  \n",
      "85620     5  \n",
      "85621     1  \n",
      "85622     1  \n",
      "\n",
      "Dataframe has been saved into ../dataset/raw data/df_translated_google_play.csv!\n"
     ]
    }
   ],
   "source": [
    "# Calling the parameters\n",
    "app_name = ['help is nearby!']\n",
    "model_name = 'Helsinki-NLP/opus-mt-bg-en'\n",
    "output_path = os.path.join(save_dir, 'df_translated_google_play.csv')\n",
    "\n",
    "# Calling the function\n",
    "df_updated = translate_content_and_save(df_updated, app_name, model_name, output_path)"
   ]
  },
  {
   "cell_type": "markdown",
   "id": "937b20a6",
   "metadata": {},
   "source": [
    "### 2.1.7. Czech to English\n",
    "\n",
    "App: Zachranka"
   ]
  },
  {
   "cell_type": "code",
   "execution_count": 63,
   "id": "2779da30",
   "metadata": {},
   "outputs": [
    {
     "name": "stdout",
     "output_type": "stream",
     "text": [
      "             app                                            content score\n",
      "82568  Zachranka  Nepodporuje tématické ikony. Vývoj aplikace se...     2\n",
      "82569  Zachranka  Aplikace se nebyla schopná zapnout ve chvíli k...     1\n",
      "82570  Zachranka  Dobrý den lze přidat dítě do aplikaci? Plánuje...     4\n",
      "82571  Zachranka  Poslední update se nepovedl. Chodí mi notifika...     1\n",
      "82572  Zachranka                 Dos not work without registration.     1\n",
      "             app                                            content score\n",
      "85536  Zachranka  It does not support thematic icons. The develo...     2\n",
      "85537  Zachranka  The app wasn't able to turn on when I needed t...     1\n",
      "85538  Zachranka  Hello can you add a child to the app? Are you ...     4\n",
      "85539  Zachranka  Last update failed. I have a Hungarian notific...     1\n",
      "85540  Zachranka                 Dos not work without registration.     1\n",
      "\n",
      "Dataframe has been saved into ../dataset/raw data/df_translated_google_play.csv!\n"
     ]
    }
   ],
   "source": [
    "# Calling the parameters\n",
    "app_name = ['Zachranka']\n",
    "model_name = 'Helsinki-NLP/opus-mt-cs-en'\n",
    "output_path = os.path.join(save_dir, 'df_translated_google_play.csv')\n",
    "\n",
    "# Calling the function\n",
    "df_updated = translate_content_and_save(df_updated, app_name, model_name, output_path)"
   ]
  },
  {
   "cell_type": "markdown",
   "id": "d5cd60cd",
   "metadata": {},
   "source": [
    "### 2.1.8. Hungarian to English\n",
    "\n",
    "App: EletMento"
   ]
  },
  {
   "cell_type": "code",
   "execution_count": 64,
   "id": "f7a5a2a7",
   "metadata": {},
   "outputs": [
    {
     "name": "stdout",
     "output_type": "stream",
     "text": [
      "             app                                            content score\n",
      "82568  EletMento                                             Kiváló     5\n",
      "82569  EletMento  Élesben még szerencsére nem kellett használni....     5\n",
      "82570  EletMento                                             Könnyű     5\n",
      "82571  EletMento  Jó ötlet szerencsére kipróbálnom még nem kelle...     5\n",
      "82572  EletMento  Nem lenne rossz az app. Bár én még riasztást n...     5\n",
      "             app                                            content score\n",
      "84770  EletMento                                         Excellent.     5\n",
      "84771  EletMento  Luckily, I didn't have to use it in the first ...     5\n",
      "84772  EletMento                                         It's easy.     5\n",
      "84773  EletMento  It's a good idea I didn't have to try it yet! ...     5\n",
      "84774  EletMento  The app wouldn't be bad, although I haven't be...     5\n",
      "\n",
      "Dataframe has been saved into ../dataset/raw data/df_translated_google_play.csv!\n"
     ]
    }
   ],
   "source": [
    "# Calling the parameters\n",
    "app_name = ['EletMento']\n",
    "model_name = 'Helsinki-NLP/opus-mt-hu-en'\n",
    "output_path = os.path.join(save_dir, 'df_translated_google_play.csv')\n",
    "\n",
    "# Calling the function\n",
    "df_updated = translate_content_and_save(df_updated, app_name, model_name, output_path)"
   ]
  },
  {
   "cell_type": "markdown",
   "id": "8416d270",
   "metadata": {},
   "source": [
    "### 2.1.9. Bahasa to English\n",
    "\n",
    "App: Jakarta Aman"
   ]
  },
  {
   "cell_type": "code",
   "execution_count": 65,
   "id": "2f7c4e7f",
   "metadata": {},
   "outputs": [
    {
     "name": "stdout",
     "output_type": "stream",
     "text": [
      "                app                                            content score\n",
      "82568  Jakarta Aman  Nomor telpon sampe 13 digit ga bisa ya? Padaha...     1\n",
      "82569  Jakarta Aman  Selama ini belum bisa memanfaatkan dan memperg...     1\n",
      "82570  Jakarta Aman  Jakarta Amannya aplikasinya Error ya? Tolong d...     1\n",
      "82571  Jakarta Aman  Sudah install tetapi Tidak bisa daftar kapan d...     2\n",
      "82572  Jakarta Aman  masi banyak bug butuh pengembangan lebih serta...     5\n",
      "                app                                            content score\n",
      "84596  Jakarta Aman  A phone number of 13 digits won't work, but no...     1\n",
      "84597  Jakarta Aman  We haven't been able to use and use applicatio...     1\n",
      "84598  Jakarta Aman  Don't worry. I'm charming because I've tried d...     1\n",
      "84599  Jakarta Aman  Already installed but can't list when is it fi...     2\n",
      "84600  Jakarta Aman  A lot of bugs need more development and a high...     5\n",
      "\n",
      "Dataframe has been saved into ../dataset/raw data/df_translated_google_play.csv!\n"
     ]
    }
   ],
   "source": [
    "# Calling the parameters\n",
    "app_name = ['Jakarta Aman']\n",
    "model_name = 'Helsinki-NLP/opus-mt-id-en'\n",
    "output_path = os.path.join(save_dir, 'df_translated_google_play.csv')\n",
    "\n",
    "# Calling the function\n",
    "df_updated = translate_content_and_save(df_updated, app_name, model_name, output_path)"
   ]
  },
  {
   "cell_type": "markdown",
   "id": "63775802",
   "metadata": {},
   "source": [
    "### 2.1.10. Japanesse to English\n",
    "\n",
    "App: Yurekuru Call and National evacuation center guide"
   ]
  },
  {
   "cell_type": "code",
   "execution_count": 76,
   "id": "75e8c5c4",
   "metadata": {},
   "outputs": [
    {
     "name": "stdout",
     "output_type": "stream",
     "text": [
      "                 app                                            content score\n",
      "84040  Yurekuru Call                                               ゴミゲー     1\n",
      "84041  Yurekuru Call  「緊急地震速報」対応が早い！！お陰様で、凄く助かってます。｢ ゆれくるコール ｣お薦めします...     5\n",
      "84042  Yurekuru Call                             揺れてるのに鳴らない テレビのほうが速報速い     1\n",
      "84043  Yurekuru Call                                                 退会     2\n",
      "84044  Yurekuru Call     津波の通知を、段階ごと(津波注意報～大津波警報)もしくは地域ごとに設定できるよう改善願います     2\n",
      "                                    app              content score\n",
      "85658  National evacuation center guide          触ってないのに勝手に…     1\n",
      "85659  National evacuation center guide  分からないですが、宜しくお願いします。     4\n",
      "85660  National evacuation center guide  避難所がわかって助かるあぷりです助かる     5\n",
      "85661  National evacuation center guide               起動しない。     1\n",
      "85662  National evacuation center guide         作動環境を教えてください     3\n",
      "              app                                            content score\n",
      "0  Disaster Alert                                           Good App     5\n",
      "1  Disaster Alert  Working as a Public Health Nurse I get to resp...     5\n",
      "2  Disaster Alert  Nice to have before traveling to unknown terri...     5\n",
      "3  Disaster Alert  I like! I'm trying to find anything about tsun...     5\n",
      "4  Disaster Alert                                       Not accurate     1\n",
      "Dataframe has been saved into ../dataset/raw data/df_translated_google_play.csv!\n"
     ]
    }
   ],
   "source": [
    "# Calling the parameters\n",
    "app_name = ['Yurekuru Call', 'National evacuation center guide']\n",
    "model_name = 'Helsinki-NLP/opus-mt-ja-en'\n",
    "output_path = os.path.join(save_dir, 'df_translated_google_play.csv')\n",
    "\n",
    "# Calling the function\n",
    "df_updated = translate_content_and_save(df_updated, app_name, model_name, output_path)"
   ]
  },
  {
   "cell_type": "markdown",
   "id": "bc5f7f99",
   "metadata": {},
   "source": [
    "### 2.1.11. Mongolian to English\n",
    "\n",
    "App: Anhaar"
   ]
  },
  {
   "cell_type": "code",
   "execution_count": 77,
   "id": "0da75735",
   "metadata": {},
   "outputs": [
    {
     "name": "stdout",
     "output_type": "stream",
     "text": [
      "          app                                    content score\n",
      "84040  Anhaar                    Гэрэл нь ажлахгүй байна     4\n",
      "84041  Anhaar        LG загваруудад гэрэл асахгүй байна.     3\n",
      "84042  Anhaar                                    So cool     5\n",
      "84043  Anhaar  Үнэхээр хэрэгтэй апп байна. Баярлалаа 👏👏👏     5\n",
      "84044  Anhaar                            QR code bdag u?     4\n"
     ]
    },
    {
     "name": "stderr",
     "output_type": "stream",
     "text": [
      "tokenizer_config.json: 100%|█████████████████████████████████████████████████| 44.0/44.0 [00:00<00:00, 8.85kB/s]\n",
      "source.spm: 100%|████████████████████████████████████████████████████████████| 707k/707k [00:00<00:00, 1.99MB/s]\n",
      "target.spm: 100%|████████████████████████████████████████████████████████████| 791k/791k [00:00<00:00, 3.98MB/s]\n",
      "vocab.json: 100%|██████████████████████████████████████████████████████████| 1.42M/1.42M [00:01<00:00, 1.39MB/s]\n",
      "config.json: 100%|██████████████████████████████████████████████████████████| 1.40k/1.40k [00:00<00:00, 603kB/s]\n",
      "pytorch_model.bin: 100%|█████████████████████████████████████████████████████| 310M/310M [01:32<00:00, 3.37MB/s]\n",
      "generation_config.json: 100%|██████████████████████████████████████████████████| 293/293 [00:00<00:00, 65.0kB/s]\n"
     ]
    },
    {
     "name": "stdout",
     "output_type": "stream",
     "text": [
      "              app                                            content score\n",
      "0  Disaster Alert                                           Good App     5\n",
      "1  Disaster Alert  Working as a Public Health Nurse I get to resp...     5\n",
      "2  Disaster Alert  Nice to have before traveling to unknown terri...     5\n",
      "3  Disaster Alert  I like! I'm trying to find anything about tsun...     5\n",
      "4  Disaster Alert                                       Not accurate     1\n",
      "Dataframe has been saved into ../dataset/raw data/df_translated_google_play.csv!\n"
     ]
    }
   ],
   "source": [
    "# Calling the parameters\n",
    "app_name = ['Anhaar']\n",
    "model_name = 'Helsinki-NLP/opus-mt-mul-en'\n",
    "output_path = os.path.join(save_dir, 'df_translated_google_play.csv')\n",
    "\n",
    "# Calling the function\n",
    "df_updated = translate_content_and_save(df_updated, app_name, model_name, output_path)"
   ]
  },
  {
   "cell_type": "markdown",
   "id": "7614e397",
   "metadata": {},
   "source": [
    "## 2.2. Apple App Store"
   ]
  },
  {
   "cell_type": "code",
   "execution_count": 78,
   "id": "d0c0ebaa",
   "metadata": {},
   "outputs": [],
   "source": [
    "file_path = os.path.join(save_dir, 'apple_app_reviews.csv')\n",
    "df = pd.read_csv(file_path)"
   ]
  },
  {
   "cell_type": "markdown",
   "id": "ea4f782c",
   "metadata": {},
   "source": [
    "### 2.2.1. Polish to English\n",
    "\n",
    "App: 112 BE"
   ]
  },
  {
   "cell_type": "code",
   "execution_count": null,
   "id": "08fd41ac",
   "metadata": {},
   "outputs": [],
   "source": [
    "# Calling the parameters\n",
    "app_name = ['Alarm112']\n",
    "model_name = 'Helsinki-NLP/opus-mt-pl-en'\n",
    "output_path = os.path.join(save_dir, 'df_translated_app_store.csv')\n",
    "\n",
    "# Calling the function\n",
    "df_updated = translate_content_and_save(df, app_name, model_name, output_path)"
   ]
  },
  {
   "cell_type": "markdown",
   "id": "0a7e12bb",
   "metadata": {},
   "source": [
    "### 2.2.2. Dutch to English\n",
    "\n",
    "App: 112 BE"
   ]
  },
  {
   "cell_type": "code",
   "execution_count": null,
   "id": "9482bef7",
   "metadata": {},
   "outputs": [],
   "source": [
    "# Calling the parameters\n",
    "app_name = ['112 BE']\n",
    "model_name = 'Helsinki-NLP/opus-mt-nl-en'\n",
    "output_path = os.path.join(save_dir, 'df_translated_app_store.csv')\n",
    "\n",
    "# Calling the function\n",
    "df_updated = translate_content_and_save(df_updated, app_name, model_name, output_path)"
   ]
  },
  {
   "cell_type": "markdown",
   "id": "884581f0",
   "metadata": {},
   "source": [
    "### 2.2.3. Bulgarian to English\n",
    "\n",
    "App: 112 Bulgaria"
   ]
  },
  {
   "cell_type": "code",
   "execution_count": null,
   "id": "8c4086d1",
   "metadata": {},
   "outputs": [],
   "source": [
    "# Calling the parameters\n",
    "app_name = ['112 Bulgaria']\n",
    "model_name = 'Helsinki-NLP/opus-mt-bg-en'\n",
    "output_path = os.path.join(save_dir, 'df_translated_app_store.csv')\n",
    "\n",
    "# Calling the function\n",
    "df_updated = translate_content_and_save(df_updated, app_name, model_name, output_path)"
   ]
  },
  {
   "cell_type": "markdown",
   "id": "8e701d45",
   "metadata": {},
   "source": [
    "### 2.2.4. Japanesse to English\n",
    "\n",
    "App: PREP"
   ]
  },
  {
   "cell_type": "code",
   "execution_count": null,
   "id": "b73ae5e2",
   "metadata": {},
   "outputs": [],
   "source": [
    "# Calling the parameters\n",
    "app_name = ['PREP']\n",
    "model_name = 'Helsinki-NLP/opus-mt-ja-en'\n",
    "output_path = os.path.join(save_dir, 'df_translated_app_store.csv')\n",
    "\n",
    "# Calling the function\n",
    "df_updated = translate_content_and_save(df_updated, app_name, model_name, output_path)"
   ]
  },
  {
   "cell_type": "markdown",
   "id": "71e4837e",
   "metadata": {},
   "source": [
    "### 2.2.5. Norwegian to English\n",
    "\n",
    "App: Hjelp 113\n",
    "\n",
    "#### 2.2.5.1 Norwegian to Dutch"
   ]
  },
  {
   "cell_type": "code",
   "execution_count": null,
   "id": "9f816c8a",
   "metadata": {},
   "outputs": [],
   "source": [
    "# Calling the parameters\n",
    "app_name = ['Hjelp 113']\n",
    "model_name = 'Helsinki-NLP/opus-mt-no-nl'\n",
    "output_path = os.path.join(save_dir, 'df_translated_app_store.csv')\n",
    "\n",
    "# Calling the function\n",
    "df_updated = translate_content_and_save(df_updated, app_name, model_name, output_path)"
   ]
  },
  {
   "cell_type": "markdown",
   "id": "438deedc",
   "metadata": {},
   "source": [
    "#### 2.2.5.2. Dutch to English"
   ]
  },
  {
   "cell_type": "code",
   "execution_count": null,
   "id": "5556d60c",
   "metadata": {},
   "outputs": [],
   "source": [
    "# Calling the parameters\n",
    "app_name = ['Hjelp 113']\n",
    "model_name = 'Helsinki-NLP/opus-mt-nl-en'\n",
    "output_path = os.path.join(save_dir, 'df_translated_app_store.csv')\n",
    "\n",
    "# Calling the function\n",
    "df_updated = translate_content_and_save(df_updated, app_name, model_name, output_path)"
   ]
  },
  {
   "cell_type": "markdown",
   "id": "423fd841",
   "metadata": {},
   "source": [
    "### 2.2.6. Swedish to English\n",
    "\n",
    "App: SOS Alarm"
   ]
  },
  {
   "cell_type": "code",
   "execution_count": null,
   "id": "3646de69",
   "metadata": {},
   "outputs": [],
   "source": [
    "# Calling the parameters\n",
    "app_name = ['SOS Alarm']\n",
    "model_name = 'Helsinki-NLP/opus-mt-sv-en'\n",
    "output_path = os.path.join(save_dir, 'df_translated_app_store.csv')\n",
    "\n",
    "# Calling the function\n",
    "df_updated = translate_content_and_save(df_updated, app_name, model_name, output_path)"
   ]
  },
  {
   "cell_type": "markdown",
   "id": "881d05c2",
   "metadata": {},
   "source": [
    "### 2.2.7. Swiss to English\n",
    "\n",
    "App: Alertswiss\n",
    "\n",
    "#### 2.2.7.1. German to English"
   ]
  },
  {
   "cell_type": "code",
   "execution_count": null,
   "id": "aaf92d84",
   "metadata": {},
   "outputs": [],
   "source": [
    "# Calling the parameters\n",
    "app_name = ['Alertswiss']\n",
    "model_name = 'Helsinki-NLP/opus-mt-de-en'\n",
    "output_path = os.path.join(save_dir, 'df_translated_app_store.csv')\n",
    "\n",
    "# Calling the function\n",
    "df_updated = translate_content_and_save(df_updated, app_name, model_name, output_path)"
   ]
  },
  {
   "cell_type": "markdown",
   "id": "2df7af02",
   "metadata": {},
   "source": [
    "#### 2.2.7.2. French to English"
   ]
  },
  {
   "cell_type": "code",
   "execution_count": null,
   "id": "42060698",
   "metadata": {},
   "outputs": [],
   "source": [
    "# Calling the parameters\n",
    "app_name = ['Alertswiss']\n",
    "model_name = 'Helsinki-NLP/opus-mt-fr-en'\n",
    "output_path = os.path.join(save_dir, 'df_translated_app_store.csv')\n",
    "\n",
    "# Calling the function\n",
    "df_updated = translate_content_and_save(df_updated, app_name, model_name, output_path)"
   ]
  },
  {
   "cell_type": "markdown",
   "id": "a1525c50",
   "metadata": {},
   "source": [
    "### 2.2.8. Turkish to English\n",
    "\n",
    "App: Afad Acil Cagri"
   ]
  },
  {
   "cell_type": "code",
   "execution_count": null,
   "id": "839a45fb",
   "metadata": {},
   "outputs": [],
   "source": [
    "# Calling the parameters\n",
    "app_name = ['Afad Acil Cagri']\n",
    "model_name = 'Helsinki-NLP/opus-mt-tr-en'\n",
    "output_path = os.path.join(save_dir, 'df_translated_app_store.csv')\n",
    "\n",
    "# Calling the function\n",
    "df_updated = translate_content_and_save(df_updated, app_name, model_name, output_path)"
   ]
  },
  {
   "cell_type": "markdown",
   "id": "fddf374f",
   "metadata": {},
   "source": [
    "### 2.2.9. Spanish to English\n",
    "\n",
    "App: Earthquake and My Earthquake Alerts & Feed"
   ]
  },
  {
   "cell_type": "code",
   "execution_count": null,
   "id": "20a5596d",
   "metadata": {},
   "outputs": [],
   "source": [
    "# Calling the parameters\n",
    "app_name = ['Earthquake', 'My Earthquake Alerts & Feed']\n",
    "model_name = 'Helsinki-NLP/opus-mt-es-en'\n",
    "output_path = os.path.join(save_dir, 'df_translated_app_store.csv')\n",
    "\n",
    "# Calling the function\n",
    "df_updated = translate_content_and_save(df_updated, app_name, model_name, output_path)"
   ]
  }
 ],
 "metadata": {
  "kernelspec": {
   "display_name": "Python (emergency-app-1)",
   "language": "python",
   "name": "emergency-app-1"
  },
  "language_info": {
   "codemirror_mode": {
    "name": "ipython",
    "version": 3
   },
   "file_extension": ".py",
   "mimetype": "text/x-python",
   "name": "python",
   "nbconvert_exporter": "python",
   "pygments_lexer": "ipython3",
   "version": "3.8.18"
  }
 },
 "nbformat": 4,
 "nbformat_minor": 5
}
