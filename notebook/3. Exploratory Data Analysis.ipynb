{
 "cells": [
  {
   "cell_type": "markdown",
   "id": "6a1c770e",
   "metadata": {},
   "source": [
    "# 1. Read Dataset"
   ]
  },
  {
   "cell_type": "code",
   "execution_count": 21,
   "id": "4e9dbda7",
   "metadata": {},
   "outputs": [],
   "source": [
    "import pandas as pd\n",
    "import os\n",
    "\n",
    "base_dir = '../dataset/phase 2/'\n",
    "file_path_1 = os.path.join(base_dir, 'df_translated_google_play.csv')\n",
    "file_path_2 = os.path.join(base_dir, 'df_translated_app_store.csv')\n",
    "\n",
    "df_1 = pd.read_csv(file_path_1)\n",
    "df_2 = pd.read_csv(file_path_2)"
   ]
  },
  {
   "cell_type": "markdown",
   "id": "223da76b",
   "metadata": {},
   "source": [
    "# 2. Combine Dataset From Play Store and App Store\n"
   ]
  },
  {
   "cell_type": "markdown",
   "id": "01e5a05a",
   "metadata": {},
   "source": [
    "## 2.1. App Name Matching"
   ]
  },
  {
   "cell_type": "code",
   "execution_count": 22,
   "id": "510ea7ba",
   "metadata": {},
   "outputs": [],
   "source": [
    "df_1['app'] = df_1['app'].replace('Hazards - Red Cross', 'Hazards Red Cross')\n",
    "\n",
    "df_2['app'] = df_2['app'].replace('GeoNet Quake', 'GeoNet')\n",
    "df_2['app'] = df_2['app'].replace('Hazards – Red Cross', 'Hazards Red Cross')\n",
    "df_2['app'] = df_2['app'].replace('Disaster Alert (PDC Global)', 'Disaster Alert')\n",
    "df_2['app'] = df_2['app'].replace('Earthquake+ Alerts Map & Info', 'Earthquake + Alerts Map & Info')"
   ]
  },
  {
   "cell_type": "markdown",
   "id": "91e4992e",
   "metadata": {},
   "source": [
    "## 2.2. Concat Play store and App Store dataset"
   ]
  },
  {
   "cell_type": "code",
   "execution_count": 23,
   "id": "2b7d01c8",
   "metadata": {},
   "outputs": [],
   "source": [
    "df = pd.concat([df_1[['app', 'content', 'score']], df_2[['app', 'content', 'score']]], ignore_index = True).reset_index(drop = True)"
   ]
  },
  {
   "cell_type": "markdown",
   "id": "4bdc60b8",
   "metadata": {},
   "source": [
    "# 3. Filter Natural Disaster App Dataset"
   ]
  },
  {
   "cell_type": "code",
   "execution_count": 24,
   "id": "5f0e194c",
   "metadata": {},
   "outputs": [],
   "source": [
    "pure_natural_disaster_app_name = ['Earthquake Alert!', 'My Earthquake Alerts - Map', 'Earthquakes Tracker', 'Yurekuru Call', \n",
    "                        'Wind Map Hurricane Tracker 3D', 'global storms', 'FEMA',\n",
    "                        'Volcanoes & Earthquakes', 'Hazards Near Me NSW', 'Disaster Alert',\n",
    "                        'Tropical Hurricane Tracker', 'GeoNet', 'My Hurricane Tracker & Alerts',\n",
    "                        'Emergency: Severe Weather App', 'Hurricane Tracker', 'Hazards Red Cross',\n",
    "                        'NINA - Die Warn-App des BBK', 'SeaStorm Hurricane Tracker', 'National evacuation center guide',\n",
    "                        'My Hurricane Tracker Pro', 'Alert SA', 'Floods Near Me NSW', 'Safety tips',\n",
    "                        'Earthquake', 'Earthquake + Alerts Map & Info', 'Natural Disaster Monitor',\n",
    "                        'Earthquakes Today', 'FloodAlert Waterlevel Alerts', 'NERV Disaster Prevention', \n",
    "                        'SES Assistance QLD', 'Hurricane & Typhoon Track',\n",
    "                        'QuakeFeed Earthquake Tracker', 'LastQuake', 'VIC Fires', 'PREP'\n",
    "                        '112 India'\n",
    "                       ]\n",
    "\n",
    "natural_disaster_app_name = ['Earthquake Alert!', 'My Earthquake Alerts - Map', 'Earthquakes Tracker', 'Yurekuru Call', \n",
    "                        'Wind Map Hurricane Tracker 3D', 'global storms', 'FEMA',\n",
    "                        'Volcanoes & Earthquakes', 'Hazards Near Me NSW', 'Disaster Alert',\n",
    "                        'Tropical Hurricane Tracker', 'GeoNet', 'My Hurricane Tracker & Alerts',\n",
    "                        'Emergency: Severe Weather App', 'Hurricane Tracker', 'Hazards Red Cross',\n",
    "                        'NINA - Die Warn-App des BBK', 'SeaStorm Hurricane Tracker', 'National evacuation center guide',\n",
    "                        'My Hurricane Tracker Pro', 'Alert SA', 'Floods Near Me NSW', 'Safety tips',\n",
    "                        'Earthquake', 'Earthquake + Alerts Map & Info', 'Natural Disaster Monitor',\n",
    "                        'Earthquakes Today', 'FloodAlert Waterlevel Alerts', 'NERV Disaster Prevention', \n",
    "                        'SES Assistance QLD', 'Hurricane & Typhoon Track',\n",
    "                        'QuakeFeed Earthquake Tracker', 'LastQuake', 'VIC Fires', 'PREP'\n",
    "                        '112 India', 'VicEmergency', 'CodeRED Mobile Alert', 'myAlerts', 'SD Emergency',\n",
    "                        'Emergency', 'Alertswiss', 'Alert2Me - Emergency Alerts', 'BD 999',\n",
    "                        'KwiKam (Quicking Services)', 'Emergency Ready App', 'Anhaar'\n",
    "                       ]\n",
    "\n",
    "df_pure_natural_disaster = df[df.app.isin(pure_natural_disaster_app_name)]\n",
    "\n",
    "df_natural_disaster = df[df.app.isin(natural_disaster_app_name)]\n",
    "df_other_emergency = df[~df.app.isin(natural_disaster_app_name)]"
   ]
  },
  {
   "cell_type": "markdown",
   "id": "8d3a1b61",
   "metadata": {},
   "source": [
    "## 4. Cleansing Dataset"
   ]
  },
  {
   "cell_type": "code",
   "execution_count": 25,
   "id": "e3b6d461",
   "metadata": {},
   "outputs": [],
   "source": [
    "def cleansing_dataset(df):\n",
    "    df = df.drop_duplicates(subset=['content', 'app'])\n",
    "    df = df.dropna(subset=['content'])\n",
    "    df = df.assign(word_count=lambda x: x['content'].apply(lambda text: len(str(text).split()))).query('word_count > 4')\n",
    "    df = df[['app', 'content', 'score']]\n",
    "    df = df[df.score != 0].reset_index(drop = True)\n",
    "    return df\n",
    "\n",
    "df_natural_disaster = cleansing_dataset(df_natural_disaster)\n",
    "df_other_emergency = cleansing_dataset(df_other_emergency)"
   ]
  },
  {
   "cell_type": "code",
   "execution_count": 26,
   "id": "beb5de97",
   "metadata": {},
   "outputs": [
    {
     "data": {
      "text/html": [
       "<div>\n",
       "<style scoped>\n",
       "    .dataframe tbody tr th:only-of-type {\n",
       "        vertical-align: middle;\n",
       "    }\n",
       "\n",
       "    .dataframe tbody tr th {\n",
       "        vertical-align: top;\n",
       "    }\n",
       "\n",
       "    .dataframe thead th {\n",
       "        text-align: right;\n",
       "    }\n",
       "</style>\n",
       "<table border=\"1\" class=\"dataframe\">\n",
       "  <thead>\n",
       "    <tr style=\"text-align: right;\">\n",
       "      <th></th>\n",
       "      <th>app</th>\n",
       "      <th>content</th>\n",
       "      <th>score</th>\n",
       "    </tr>\n",
       "  </thead>\n",
       "  <tbody>\n",
       "    <tr>\n",
       "      <th>0</th>\n",
       "      <td>Disaster Alert</td>\n",
       "      <td>Working as a Public Health Nurse I get to resp...</td>\n",
       "      <td>5</td>\n",
       "    </tr>\n",
       "    <tr>\n",
       "      <th>1</th>\n",
       "      <td>Disaster Alert</td>\n",
       "      <td>Nice to have before traveling to unknown terri...</td>\n",
       "      <td>5</td>\n",
       "    </tr>\n",
       "    <tr>\n",
       "      <th>2</th>\n",
       "      <td>Disaster Alert</td>\n",
       "      <td>I like! I'm trying to find anything about tsun...</td>\n",
       "      <td>5</td>\n",
       "    </tr>\n",
       "    <tr>\n",
       "      <th>3</th>\n",
       "      <td>Disaster Alert</td>\n",
       "      <td>good to have but what options are expected in ...</td>\n",
       "      <td>5</td>\n",
       "    </tr>\n",
       "    <tr>\n",
       "      <th>4</th>\n",
       "      <td>Disaster Alert</td>\n",
       "      <td>Shows hazards all right but refuses to send no...</td>\n",
       "      <td>2</td>\n",
       "    </tr>\n",
       "    <tr>\n",
       "      <th>...</th>\n",
       "      <td>...</td>\n",
       "      <td>...</td>\n",
       "      <td>...</td>\n",
       "    </tr>\n",
       "    <tr>\n",
       "      <th>28156</th>\n",
       "      <td>Earthquake</td>\n",
       "      <td>It works quite well even anticipates some othe...</td>\n",
       "      <td>5</td>\n",
       "    </tr>\n",
       "    <tr>\n",
       "      <th>28157</th>\n",
       "      <td>Earthquake</td>\n",
       "      <td>This application is very good.</td>\n",
       "      <td>5</td>\n",
       "    </tr>\n",
       "    <tr>\n",
       "      <th>28158</th>\n",
       "      <td>Earthquake</td>\n",
       "      <td>Data from earthquakes in Chile in the last 24 ...</td>\n",
       "      <td>2</td>\n",
       "    </tr>\n",
       "    <tr>\n",
       "      <th>28159</th>\n",
       "      <td>Earthquake</td>\n",
       "      <td>This is as good as earthquake apps can go. Thi...</td>\n",
       "      <td>5</td>\n",
       "    </tr>\n",
       "    <tr>\n",
       "      <th>28160</th>\n",
       "      <td>Earthquake</td>\n",
       "      <td>Delivers everything described in the write-up ...</td>\n",
       "      <td>5</td>\n",
       "    </tr>\n",
       "  </tbody>\n",
       "</table>\n",
       "<p>28161 rows × 3 columns</p>\n",
       "</div>"
      ],
      "text/plain": [
       "                  app                                            content  \\\n",
       "0      Disaster Alert  Working as a Public Health Nurse I get to resp...   \n",
       "1      Disaster Alert  Nice to have before traveling to unknown terri...   \n",
       "2      Disaster Alert  I like! I'm trying to find anything about tsun...   \n",
       "3      Disaster Alert  good to have but what options are expected in ...   \n",
       "4      Disaster Alert  Shows hazards all right but refuses to send no...   \n",
       "...               ...                                                ...   \n",
       "28156      Earthquake  It works quite well even anticipates some othe...   \n",
       "28157      Earthquake                     This application is very good.   \n",
       "28158      Earthquake  Data from earthquakes in Chile in the last 24 ...   \n",
       "28159      Earthquake  This is as good as earthquake apps can go. Thi...   \n",
       "28160      Earthquake  Delivers everything described in the write-up ...   \n",
       "\n",
       "       score  \n",
       "0          5  \n",
       "1          5  \n",
       "2          5  \n",
       "3          5  \n",
       "4          2  \n",
       "...      ...  \n",
       "28156      5  \n",
       "28157      5  \n",
       "28158      2  \n",
       "28159      5  \n",
       "28160      5  \n",
       "\n",
       "[28161 rows x 3 columns]"
      ]
     },
     "execution_count": 26,
     "metadata": {},
     "output_type": "execute_result"
    }
   ],
   "source": [
    "df_natural_disaster"
   ]
  },
  {
   "cell_type": "code",
   "execution_count": 27,
   "id": "d0d6b3a3",
   "metadata": {},
   "outputs": [
    {
     "data": {
      "text/html": [
       "<div>\n",
       "<style scoped>\n",
       "    .dataframe tbody tr th:only-of-type {\n",
       "        vertical-align: middle;\n",
       "    }\n",
       "\n",
       "    .dataframe tbody tr th {\n",
       "        vertical-align: top;\n",
       "    }\n",
       "\n",
       "    .dataframe thead th {\n",
       "        text-align: right;\n",
       "    }\n",
       "</style>\n",
       "<table border=\"1\" class=\"dataframe\">\n",
       "  <thead>\n",
       "    <tr style=\"text-align: right;\">\n",
       "      <th></th>\n",
       "      <th>app</th>\n",
       "      <th>content</th>\n",
       "      <th>score</th>\n",
       "    </tr>\n",
       "  </thead>\n",
       "  <tbody>\n",
       "    <tr>\n",
       "      <th>0</th>\n",
       "      <td>Emergency Alert</td>\n",
       "      <td>Use as part of CRT. Would be lost without this...</td>\n",
       "      <td>5</td>\n",
       "    </tr>\n",
       "    <tr>\n",
       "      <th>1</th>\n",
       "      <td>Emergency Alert</td>\n",
       "      <td>I've been using this app for many years and ne...</td>\n",
       "      <td>5</td>\n",
       "    </tr>\n",
       "    <tr>\n",
       "      <th>2</th>\n",
       "      <td>Emergency Alert</td>\n",
       "      <td>worked great until I updated the app. now it d...</td>\n",
       "      <td>3</td>\n",
       "    </tr>\n",
       "    <tr>\n",
       "      <th>3</th>\n",
       "      <td>Emergency Alert</td>\n",
       "      <td>Works Great very granular filters. I just wish...</td>\n",
       "      <td>5</td>\n",
       "    </tr>\n",
       "    <tr>\n",
       "      <th>4</th>\n",
       "      <td>Emergency Alert</td>\n",
       "      <td>Worked great for years then stopped working li...</td>\n",
       "      <td>5</td>\n",
       "    </tr>\n",
       "    <tr>\n",
       "      <th>...</th>\n",
       "      <td>...</td>\n",
       "      <td>...</td>\n",
       "      <td>...</td>\n",
       "    </tr>\n",
       "    <tr>\n",
       "      <th>46185</th>\n",
       "      <td>My Earthquake Alerts &amp; Feed</td>\n",
       "      <td>Jau i uwas myself to use uthe this iup appeara...</td>\n",
       "      <td>5</td>\n",
       "    </tr>\n",
       "    <tr>\n",
       "      <th>46186</th>\n",
       "      <td>My Earthquake Alerts &amp; Feed</td>\n",
       "      <td>Could color code the events to indicate time o...</td>\n",
       "      <td>3</td>\n",
       "    </tr>\n",
       "    <tr>\n",
       "      <th>46187</th>\n",
       "      <td>My Earthquake Alerts &amp; Feed</td>\n",
       "      <td>Do they put South America and North America as...</td>\n",
       "      <td>1</td>\n",
       "    </tr>\n",
       "    <tr>\n",
       "      <th>46188</th>\n",
       "      <td>My Earthquake Alerts &amp; Feed</td>\n",
       "      <td>This is a great app.Its is very informative an...</td>\n",
       "      <td>5</td>\n",
       "    </tr>\n",
       "    <tr>\n",
       "      <th>46189</th>\n",
       "      <td>My Earthquake Alerts &amp; Feed</td>\n",
       "      <td>I like that you give the location as early the...</td>\n",
       "      <td>3</td>\n",
       "    </tr>\n",
       "  </tbody>\n",
       "</table>\n",
       "<p>46190 rows × 3 columns</p>\n",
       "</div>"
      ],
      "text/plain": [
       "                               app  \\\n",
       "0                  Emergency Alert   \n",
       "1                  Emergency Alert   \n",
       "2                  Emergency Alert   \n",
       "3                  Emergency Alert   \n",
       "4                  Emergency Alert   \n",
       "...                            ...   \n",
       "46185  My Earthquake Alerts & Feed   \n",
       "46186  My Earthquake Alerts & Feed   \n",
       "46187  My Earthquake Alerts & Feed   \n",
       "46188  My Earthquake Alerts & Feed   \n",
       "46189  My Earthquake Alerts & Feed   \n",
       "\n",
       "                                                 content  score  \n",
       "0      Use as part of CRT. Would be lost without this...      5  \n",
       "1      I've been using this app for many years and ne...      5  \n",
       "2      worked great until I updated the app. now it d...      3  \n",
       "3      Works Great very granular filters. I just wish...      5  \n",
       "4      Worked great for years then stopped working li...      5  \n",
       "...                                                  ...    ...  \n",
       "46185  Jau i uwas myself to use uthe this iup appeara...      5  \n",
       "46186  Could color code the events to indicate time o...      3  \n",
       "46187  Do they put South America and North America as...      1  \n",
       "46188  This is a great app.Its is very informative an...      5  \n",
       "46189  I like that you give the location as early the...      3  \n",
       "\n",
       "[46190 rows x 3 columns]"
      ]
     },
     "execution_count": 27,
     "metadata": {},
     "output_type": "execute_result"
    }
   ],
   "source": [
    "df_other_emergency"
   ]
  },
  {
   "cell_type": "markdown",
   "id": "0f989521",
   "metadata": {},
   "source": [
    "# 5. Exploratory Data Analysis"
   ]
  },
  {
   "cell_type": "markdown",
   "id": "6836759c",
   "metadata": {},
   "source": [
    "## 5.1. Count App Based on Emergency Type"
   ]
  },
  {
   "cell_type": "code",
   "execution_count": 32,
   "id": "c74b88e8",
   "metadata": {},
   "outputs": [
    {
     "name": "stdout",
     "output_type": "stream",
     "text": [
      "Total Pure Natural Disaster APP =  34\n",
      "Total General Emergency App that has natural disaster feature =  11\n",
      "Total Natural Disaster APP after Adding General Emergency APP that has natural disaster feature =  45\n",
      "Total All APP =  99\n"
     ]
    }
   ],
   "source": [
    "total_pure_natural_disaster_app = len(set(df_pure_natural_disaster.app))\n",
    "total_natural_disaster_app = len(set(df_natural_disaster.app))\n",
    "total_other_emergency_app = len(set(df_other_emergency.app))\n",
    "\n",
    "print(\"Total Pure Natural Disaster APP = \", total_pure_natural_disaster_app)\n",
    "print(\"Total General Emergency App that has natural disaster feature = \", total_natural_disaster_app-total_pure_natural_disaster_app)\n",
    "print(\"Total Natural Disaster APP after Adding General Emergency APP that has natural disaster feature = \", total_natural_disaster_app)\n",
    "print(\"Total All APP = \", total_other_emergency_app+total_natural_disaster_app)"
   ]
  },
  {
   "cell_type": "markdown",
   "id": "f2192ece",
   "metadata": {},
   "source": [
    "## 5.2. Total Reviews"
   ]
  },
  {
   "cell_type": "code",
   "execution_count": 34,
   "id": "c9d7c38a",
   "metadata": {},
   "outputs": [
    {
     "name": "stdout",
     "output_type": "stream",
     "text": [
      "Total Pure Natural Disaster APP =  28161\n"
     ]
    }
   ],
   "source": [
    "print(\"Total Pure Natural Disaster APP = \", len(df_natural_disaster))"
   ]
  },
  {
   "cell_type": "code",
   "execution_count": null,
   "id": "5f0579e1",
   "metadata": {},
   "outputs": [],
   "source": []
  }
 ],
 "metadata": {
  "kernelspec": {
   "display_name": "Python (emergency-app-1)",
   "language": "python",
   "name": "emergency-app-1"
  },
  "language_info": {
   "codemirror_mode": {
    "name": "ipython",
    "version": 3
   },
   "file_extension": ".py",
   "mimetype": "text/x-python",
   "name": "python",
   "nbconvert_exporter": "python",
   "pygments_lexer": "ipython3",
   "version": "3.8.18"
  }
 },
 "nbformat": 4,
 "nbformat_minor": 5
}
