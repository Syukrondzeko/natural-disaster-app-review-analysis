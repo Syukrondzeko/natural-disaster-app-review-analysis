{
 "cells": [
  {
   "cell_type": "markdown",
   "id": "46988e58",
   "metadata": {},
   "source": [
    "# 1. Reading Dataset"
   ]
  },
  {
   "cell_type": "code",
   "execution_count": null,
   "id": "c3912e7e",
   "metadata": {},
   "outputs": [],
   "source": [
    "import pandas as pd\n",
    "import time\n",
    "import os\n",
    "\n",
    "base_dir = '../dataset/phase 3/'\n",
    "file_path = os.path.join(base_dir, 'topic_modelling_dataset.csv')\n",
    "\n",
    "df = pd.read_csv(file_path)"
   ]
  },
  {
   "cell_type": "markdown",
   "id": "0511558b",
   "metadata": {},
   "source": [
    "# 2. Vectorization using DistilBERT"
   ]
  },
  {
   "cell_type": "code",
   "execution_count": null,
   "id": "b8355ec6",
   "metadata": {},
   "outputs": [],
   "source": [
    "!pip install -q transformers"
   ]
  },
  {
   "cell_type": "code",
   "execution_count": null,
   "id": "3fb08af8",
   "metadata": {},
   "outputs": [],
   "source": [
    "from transformers import DistilBertTokenizer, DistilBertModel\n",
    "from sklearn.cluster import KMeans\n",
    "import numpy as np\n",
    "import torch\n",
    "import time\n",
    "\n",
    "tokenizer = DistilBertTokenizer.from_pretrained('distilbert-base-uncased')\n",
    "model = DistilBertModel.from_pretrained('distilbert-base-uncased')\n",
    "\n",
    "def get_bert_embeddings_batched(sentences, batch_size=32):\n",
    "    embeddings = []\n",
    "    for i in range(0, len(sentences), batch_size):\n",
    "        batch_sentences = sentences[i:i+batch_size]\n",
    "        batch_inputs = tokenizer(batch_sentences, padding=True, truncation=True, return_tensors=\"pt\", max_length=512)\n",
    "        with torch.no_grad():\n",
    "            batch_outputs = model(**batch_inputs)\n",
    "        batch_embeddings = batch_outputs.last_hidden_state[:, 0, :].numpy()\n",
    "        embeddings.append(batch_embeddings)\n",
    "    return np.vstack(embeddings)\n",
    "\n",
    "start_time = time.time()\n",
    "embeddings = get_bert_embeddings_batched(df['content'].tolist(), batch_size=32)\n",
    "end_time = time.time()\n",
    "\n",
    "time_taken = end_time - start_time\n",
    "print(f\"Time taken for vectorization: {time_taken} seconds\")\n"
   ]
  },
  {
   "cell_type": "markdown",
   "id": "c34ccdd0",
   "metadata": {},
   "source": [
    "# 3. K-Means Clustering\n",
    "## 3.1. Searching Best K with ELbow Method"
   ]
  },
  {
   "cell_type": "code",
   "execution_count": null,
   "id": "73abe463",
   "metadata": {},
   "outputs": [],
   "source": [
    "import matplotlib.pyplot as plt\n",
    "import time\n",
    "from sklearn.cluster import KMeans\n",
    "\n",
    "# Range of number of clusters to try\n",
    "cluster_range = range(1, 11)\n",
    "\n",
    "# Variables to store results\n",
    "wcss = []\n",
    "execution_times = []\n",
    "\n",
    "for n_clusters in cluster_range:\n",
    "    start_time = time.time()\n",
    "    kmeans = KMeans(n_clusters=n_clusters, init='k-means++', n_init=10, max_iter=300, random_state=42)\n",
    "    kmeans.fit(embeddings)\n",
    "    end_time = time.time()\n",
    "\n",
    "    # Record WCSS and execution time\n",
    "    wcss.append(kmeans.inertia_)\n",
    "    execution_times.append(end_time - start_time)\n",
    "\n",
    "# Plotting WCSS (Elbow Method) and Execution Times\n",
    "plt.figure(figsize=(12, 6))\n",
    "\n",
    "# Subplot for WCSS (Elbow Method)\n",
    "plt.subplot(1, 2, 1)\n",
    "plt.plot(cluster_range, wcss, marker='o')\n",
    "plt.title('Elbow Method For Optimal Number of Clusters')\n",
    "plt.xlabel('Number of Clusters')\n",
    "plt.ylabel('WCSS')\n",
    "\n",
    "# Subplot for Execution Times\n",
    "plt.subplot(1, 2, 2)\n",
    "plt.plot(cluster_range, execution_times, marker='o', color='red')\n",
    "plt.title('Execution Time for Each Number of Clusters')\n",
    "plt.xlabel('Number of Clusters')\n",
    "plt.ylabel('Execution Time (seconds)')\n",
    "\n",
    "plt.tight_layout()\n",
    "plt.show()\n"
   ]
  },
  {
   "cell_type": "markdown",
   "id": "ea91e923",
   "metadata": {},
   "source": [
    "## 3.2. Training with Selected K"
   ]
  },
  {
   "cell_type": "code",
   "execution_count": null,
   "id": "6a88d25e",
   "metadata": {},
   "outputs": [],
   "source": [
    "import warnings\n",
    "warnings.filterwarnings('ignore')\n",
    "\n",
    "kmeans = KMeans(n_clusters=10, init='k-means++', n_init=10, max_iter=300, random_state=42)\n",
    "kmeans.fit(embeddings)\n",
    "\n",
    "df['cluster'] = kmeans.labels_"
   ]
  },
  {
   "cell_type": "markdown",
   "id": "36c80275",
   "metadata": {},
   "source": [
    "## 3.3. Cluster Review Summarization"
   ]
  },
  {
   "cell_type": "code",
   "execution_count": null,
   "id": "f08fbd17",
   "metadata": {},
   "outputs": [],
   "source": [
    "from transformers import pipeline\n",
    "\n",
    "# Initialize the summarization pipeline\n",
    "summarizer = pipeline(\"summarization\", model=\"sshleifer/distilbart-cnn-12-6\")\n",
    "\n",
    "# Function to summarize text for a cluster\n",
    "def summarize_cluster(cluster_text, max_length=500, min_length=250):\n",
    "    return summarizer(cluster_text, max_length=max_length, min_length=min_length, truncation=True)[0]['summary_text']\n",
    "\n",
    "# Summarize each cluster\n",
    "num_clusters = 10 \n",
    "cluster_summaries = {}\n",
    "for i in range(num_clusters):\n",
    "    start_time = time.time()\n",
    "    cluster_text = ' '.join(df[df['cluster'] == i]['content'])\n",
    "    cluster_summaries[i] = summarize_cluster(cluster_text)\n",
    "    end_time = time.time()\n",
    "    time_taken = end_time - start_time\n",
    "    print(f\"Time taken for summarization: {time_taken} seconds\")\n",
    "\n",
    "# Print summaries\n",
    "for cluster, summary in cluster_summaries.items():\n",
    "    print(f\"Cluster {cluster} Summary:\\n{summary}\\n\")\n"
   ]
  }
 ],
 "metadata": {
  "kernelspec": {
   "display_name": "Python (emergency-app-1)",
   "language": "python",
   "name": "emergency-app-1"
  },
  "language_info": {
   "codemirror_mode": {
    "name": "ipython",
    "version": 3
   },
   "file_extension": ".py",
   "mimetype": "text/x-python",
   "name": "python",
   "nbconvert_exporter": "python",
   "pygments_lexer": "ipython3",
   "version": "3.8.18"
  }
 },
 "nbformat": 4,
 "nbformat_minor": 5
}
